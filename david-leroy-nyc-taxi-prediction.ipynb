{
 "cells": [
  {
   "cell_type": "markdown",
   "metadata": {
    "_uuid": "0174f77a5c1aaac5e515cac9479f2d973715fc8a"
   },
   "source": [
    "## Data Fields\n",
    "\n",
    "- id - a unique identifier for each trip\n",
    "- vendor_id - a code indicating the provider associated with the trip record\n",
    "- pickup_datetime - date and time when the meter was engaged\n",
    "- dropoff_datetime - date and time when the meter was disengaged\n",
    "- passenger_count - the number of passengers in the vehicle (driver entered value)\n",
    "- pickup_longitude - the longitude where the meter was engaged\n",
    "- pickup_latitude - the latitude where the meter was engaged\n",
    "- dropoff_longitude - the longitude where the meter was disengaged\n",
    "- dropoff_latitude - the latitude where the meter was disengaged\n",
    "- store_and_fwd_flag - This flag indicates whether the trip record was held in vehicle memory before sending to the vendor because the vehicle did not have a connection to the server - Y=store and forward; N=not a store and forward trip\n",
    "- trip_duration - duration of the trip in seconds, target variable"
   ]
  },
  {
   "cell_type": "markdown",
   "metadata": {
    "_uuid": "af3b1cd450502ee466b1972d572bc8b21635b12b"
   },
   "source": [
    "# Import\n"
   ]
  },
  {
   "cell_type": "code",
   "execution_count": 1,
   "metadata": {
    "_uuid": "ee2479a8187a900145c35775cfd91311582a8d8a"
   },
   "outputs": [
    {
     "name": "stdout",
     "output_type": "stream",
     "text": [
      "['train.csv', 'sample_submission.csv', 'test.csv']\n"
     ]
    }
   ],
   "source": [
    "import numpy as np\n",
    "import pandas as pd\n",
    "\n",
    "import matplotlib.pyplot as plt\n",
    "import seaborn as sns\n",
    "%matplotlib inline\n",
    "\n",
    "from datetime import datetime\n",
    "\n",
    "import os\n",
    "from pathlib import Path\n",
    "print(os.listdir(\"../input\"))"
   ]
  },
  {
   "cell_type": "markdown",
   "metadata": {
    "_uuid": "4229ad20e8ad70f9db959795e436f9f336a7b3bf"
   },
   "source": [
    "# 1 Data loading"
   ]
  },
  {
   "cell_type": "code",
   "execution_count": 2,
   "metadata": {
    "_uuid": "2495e55771fd0aa61f782331c9558fddef491f5a"
   },
   "outputs": [],
   "source": [
    "df_train = pd.read_csv('../input/train.csv')\n",
    "df_test = pd.read_csv('../input/test.csv')"
   ]
  },
  {
   "cell_type": "code",
   "execution_count": 3,
   "metadata": {
    "_uuid": "c9e06642d8b0b51fe7afee3f7b9bc4ebb708faee"
   },
   "outputs": [
    {
     "data": {
      "text/html": [
       "<div>\n",
       "<style scoped>\n",
       "    .dataframe tbody tr th:only-of-type {\n",
       "        vertical-align: middle;\n",
       "    }\n",
       "\n",
       "    .dataframe tbody tr th {\n",
       "        vertical-align: top;\n",
       "    }\n",
       "\n",
       "    .dataframe thead th {\n",
       "        text-align: right;\n",
       "    }\n",
       "</style>\n",
       "<table border=\"1\" class=\"dataframe\">\n",
       "  <thead>\n",
       "    <tr style=\"text-align: right;\">\n",
       "      <th></th>\n",
       "      <th>id</th>\n",
       "      <th>vendor_id</th>\n",
       "      <th>pickup_datetime</th>\n",
       "      <th>dropoff_datetime</th>\n",
       "      <th>passenger_count</th>\n",
       "      <th>pickup_longitude</th>\n",
       "      <th>pickup_latitude</th>\n",
       "      <th>dropoff_longitude</th>\n",
       "      <th>dropoff_latitude</th>\n",
       "      <th>store_and_fwd_flag</th>\n",
       "      <th>trip_duration</th>\n",
       "    </tr>\n",
       "  </thead>\n",
       "  <tbody>\n",
       "    <tr>\n",
       "      <th>0</th>\n",
       "      <td>id2875421</td>\n",
       "      <td>2</td>\n",
       "      <td>2016-03-14 17:24:55</td>\n",
       "      <td>2016-03-14 17:32:30</td>\n",
       "      <td>1</td>\n",
       "      <td>-73.982155</td>\n",
       "      <td>40.767937</td>\n",
       "      <td>-73.964630</td>\n",
       "      <td>40.765602</td>\n",
       "      <td>N</td>\n",
       "      <td>455</td>\n",
       "    </tr>\n",
       "    <tr>\n",
       "      <th>1</th>\n",
       "      <td>id2377394</td>\n",
       "      <td>1</td>\n",
       "      <td>2016-06-12 00:43:35</td>\n",
       "      <td>2016-06-12 00:54:38</td>\n",
       "      <td>1</td>\n",
       "      <td>-73.980415</td>\n",
       "      <td>40.738564</td>\n",
       "      <td>-73.999481</td>\n",
       "      <td>40.731152</td>\n",
       "      <td>N</td>\n",
       "      <td>663</td>\n",
       "    </tr>\n",
       "    <tr>\n",
       "      <th>2</th>\n",
       "      <td>id3858529</td>\n",
       "      <td>2</td>\n",
       "      <td>2016-01-19 11:35:24</td>\n",
       "      <td>2016-01-19 12:10:48</td>\n",
       "      <td>1</td>\n",
       "      <td>-73.979027</td>\n",
       "      <td>40.763939</td>\n",
       "      <td>-74.005333</td>\n",
       "      <td>40.710087</td>\n",
       "      <td>N</td>\n",
       "      <td>2124</td>\n",
       "    </tr>\n",
       "    <tr>\n",
       "      <th>3</th>\n",
       "      <td>id3504673</td>\n",
       "      <td>2</td>\n",
       "      <td>2016-04-06 19:32:31</td>\n",
       "      <td>2016-04-06 19:39:40</td>\n",
       "      <td>1</td>\n",
       "      <td>-74.010040</td>\n",
       "      <td>40.719971</td>\n",
       "      <td>-74.012268</td>\n",
       "      <td>40.706718</td>\n",
       "      <td>N</td>\n",
       "      <td>429</td>\n",
       "    </tr>\n",
       "    <tr>\n",
       "      <th>4</th>\n",
       "      <td>id2181028</td>\n",
       "      <td>2</td>\n",
       "      <td>2016-03-26 13:30:55</td>\n",
       "      <td>2016-03-26 13:38:10</td>\n",
       "      <td>1</td>\n",
       "      <td>-73.973053</td>\n",
       "      <td>40.793209</td>\n",
       "      <td>-73.972923</td>\n",
       "      <td>40.782520</td>\n",
       "      <td>N</td>\n",
       "      <td>435</td>\n",
       "    </tr>\n",
       "  </tbody>\n",
       "</table>\n",
       "</div>"
      ],
      "text/plain": [
       "          id  vendor_id      ...      store_and_fwd_flag trip_duration\n",
       "0  id2875421          2      ...                       N           455\n",
       "1  id2377394          1      ...                       N           663\n",
       "2  id3858529          2      ...                       N          2124\n",
       "3  id3504673          2      ...                       N           429\n",
       "4  id2181028          2      ...                       N           435\n",
       "\n",
       "[5 rows x 11 columns]"
      ]
     },
     "execution_count": 3,
     "metadata": {},
     "output_type": "execute_result"
    }
   ],
   "source": [
    "df_train.head()"
   ]
  },
  {
   "cell_type": "code",
   "execution_count": 4,
   "metadata": {
    "_uuid": "fef89e249042ce9a3ca59a96fdfb20a16b405fdd"
   },
   "outputs": [
    {
     "name": "stdout",
     "output_type": "stream",
     "text": [
      "Memory usage, Mb: 122.41\n",
      "\n",
      "---------------- DataFrame Info -----------------\n",
      "<class 'pandas.core.frame.DataFrame'>\n",
      "RangeIndex: 1458644 entries, 0 to 1458643\n",
      "Data columns (total 11 columns):\n",
      "id                    1458644 non-null object\n",
      "vendor_id             1458644 non-null int64\n",
      "pickup_datetime       1458644 non-null object\n",
      "dropoff_datetime      1458644 non-null object\n",
      "passenger_count       1458644 non-null int64\n",
      "pickup_longitude      1458644 non-null float64\n",
      "pickup_latitude       1458644 non-null float64\n",
      "dropoff_longitude     1458644 non-null float64\n",
      "dropoff_latitude      1458644 non-null float64\n",
      "store_and_fwd_flag    1458644 non-null object\n",
      "trip_duration         1458644 non-null int64\n",
      "dtypes: float64(4), int64(3), object(4)\n",
      "memory usage: 122.4+ MB\n",
      "None\n"
     ]
    }
   ],
   "source": [
    "# check data usage\n",
    "print('Memory usage, Mb: {:.2f}\\n'.format(df_train.memory_usage().sum()/2**20))\n",
    "\n",
    "# overall df info\n",
    "print('---------------- DataFrame Info -----------------')\n",
    "print(df_train.info())"
   ]
  },
  {
   "cell_type": "markdown",
   "metadata": {
    "_uuid": "cf5fe17904864806a2e478131fe6d02745b4297c"
   },
   "source": [
    "# 2 Data exploration"
   ]
  },
  {
   "cell_type": "markdown",
   "metadata": {
    "_uuid": "b5c4a2891bca566ec64ec8c128da9a540034f6c5"
   },
   "source": [
    "#### 2.1 Check for N/A values"
   ]
  },
  {
   "cell_type": "code",
   "execution_count": 5,
   "metadata": {
    "_uuid": "302db5f7a6a1e61b4c2bae7211b7aca67c4d9847"
   },
   "outputs": [
    {
     "name": "stdout",
     "output_type": "stream",
     "text": [
      "id                    0\n",
      "vendor_id             0\n",
      "pickup_datetime       0\n",
      "dropoff_datetime      0\n",
      "passenger_count       0\n",
      "pickup_longitude      0\n",
      "pickup_latitude       0\n",
      "dropoff_longitude     0\n",
      "dropoff_latitude      0\n",
      "store_and_fwd_flag    0\n",
      "trip_duration         0\n",
      "dtype: int64\n"
     ]
    }
   ],
   "source": [
    "print(df_train.isnull().sum())"
   ]
  },
  {
   "cell_type": "markdown",
   "metadata": {
    "_uuid": "0595c763abb25eb2f1cce7154dd832c6dbbd5bd6"
   },
   "source": [
    "**No N/A values**"
   ]
  },
  {
   "cell_type": "markdown",
   "metadata": {
    "_uuid": "edc99d9c58270fc94dbbd1311c12a506d83fc6d7"
   },
   "source": [
    "#### 2.2 Check for Outliers"
   ]
  },
  {
   "cell_type": "code",
   "execution_count": 6,
   "metadata": {
    "_uuid": "ef8cabaa3f0bfc60f95c3ec7a836310dc0c9fbce"
   },
   "outputs": [
    {
     "name": "stdout",
     "output_type": "stream",
     "text": [
      "----------------distance Outliers-------------------\n",
      "Latitude : 34.359695434570305 to 51.88108444213867\n",
      "Longitude : -121.9333038330078 to -61.33552932739258\n",
      "\n",
      "------------------Time Outliers---------------------\n",
      "Trip duration in seconds: 1 to 3526282\n",
      "\n",
      "------------------Date Outliers---------------------\n",
      "Datetime range: 2016-01-01 00:00:17 to 2016-07-01 23:02:03\n",
      "\n",
      "----------------Passengers Outliers------------------\n",
      "Passengers: 0 to 9\n"
     ]
    }
   ],
   "source": [
    "print('----------------distance Outliers-------------------')\n",
    "print('Latitude : {} to {}'.format(\n",
    "    max(df_train.pickup_latitude.min(), df_train.dropoff_latitude.min()),\n",
    "    max(df_train.pickup_latitude.max(), df_train.dropoff_latitude.max())\n",
    "))\n",
    "print('Longitude : {} to {}'.format(\n",
    "    max(df_train.pickup_longitude.min(), df_train.dropoff_longitude.min()),\n",
    "    max(df_train.pickup_longitude.max(), df_train.dropoff_longitude.max())\n",
    "))\n",
    "print('')\n",
    "print('------------------Time Outliers---------------------')\n",
    "print('Trip duration in seconds: {} to {}'.format(\n",
    "    df_train.trip_duration.min(), df_train.trip_duration.max()))\n",
    "\n",
    "print('')\n",
    "print('------------------Date Outliers---------------------')\n",
    "print('Datetime range: {} to {}'.format(df_train.pickup_datetime.min(), \n",
    "                                        df_train.dropoff_datetime.max()))\n",
    "print('')\n",
    "print('----------------Passengers Outliers------------------')\n",
    "print('Passengers: {} to {}'.format(df_train.passenger_count.min(), \n",
    "                                        df_train.passenger_count.max()))"
   ]
  },
  {
   "cell_type": "markdown",
   "metadata": {
    "_uuid": "8f0704b1eaa1a3cdab772f458651004a6b99bd2e"
   },
   "source": [
    "#### 2.3 Check duplicates values"
   ]
  },
  {
   "cell_type": "code",
   "execution_count": 7,
   "metadata": {
    "_uuid": "c78a1c2b2e670016297ab4bf0e1ed9be40d14a59"
   },
   "outputs": [
    {
     "name": "stdout",
     "output_type": "stream",
     "text": [
      "duplicates IDs: 0\n"
     ]
    }
   ],
   "source": [
    "print('duplicates IDs: {}'.format(len(df_train) - len(df_train.drop_duplicates(subset='id'))))"
   ]
  },
  {
   "cell_type": "markdown",
   "metadata": {
    "_uuid": "0758b79fbef43a916607fb7a5401a19d6b46acc3"
   },
   "source": [
    "#### 2.4 Distances calculator"
   ]
  },
  {
   "cell_type": "markdown",
   "metadata": {
    "_uuid": "cab6d752fbe9ce290d145daf2d3e5d00dc2f7c5e"
   },
   "source": [
    "To make this calculation, has to be used Haversine Formula, instead Euclidean distance, because latitude and longitue are points in sphere and not in plain.\n",
    "\n",
    "The implementation below to Haversine Formula it is from Aaron D, on StackOverflow. To extend precision of this calculation was used double precision, from numpy."
   ]
  },
  {
   "cell_type": "code",
   "execution_count": 8,
   "metadata": {
    "_uuid": "01810ad8e7486ee536f6ff629b2c0c716426d9d5"
   },
   "outputs": [],
   "source": [
    "from math import radians, cos, sin, asin, sqrt\n",
    "\n",
    "def haversine(lon1, lat1, lon2, lat2):\n",
    "    \"\"\"\n",
    "    Calculate the great circle distance between two points \n",
    "    on the earth (specified in decimal degrees)\n",
    "    \"\"\"\n",
    "    # convert decimal degrees to radians \n",
    "    lon1, lat1, lon2, lat2 = map(radians, [lon1, lat1, lon2, lat2])\n",
    "    # haversine formula \n",
    "    dlon = lon2 - lon1 \n",
    "    dlat = lat2 - lat1 \n",
    "    a = sin(dlat/2)**2 + cos(lat1) * cos(lat2) * sin(dlon/2)**2\n",
    "    c = 2 * asin(sqrt(a)) \n",
    "    # Radius of earth in kilometers is 6371\n",
    "    km = 6371* c\n",
    "    return km\n",
    "\n",
    "def haversine_distance(x):\n",
    "    x1, y1 = np.float64(x['pickup_longitude']), np.float64(x['pickup_latitude'])\n",
    "    x2, y2 = np.float64(x['dropoff_longitude']), np.float64(x['dropoff_latitude'])    \n",
    "    return haversine(x1, y1, x2, y2)"
   ]
  },
  {
   "cell_type": "code",
   "execution_count": 9,
   "metadata": {
    "_uuid": "690d0cfa934aee4df6a3a0cfc1a3494f8f2b8b5c"
   },
   "outputs": [],
   "source": [
    "#trop LONG et peu précis\n",
    "#%%time\n",
    "#df_train['distance'] = df_train[['pickup_longitude', 'pickup_latitude', 'dropoff_longitude', 'dropoff_latitude']].apply(haversine_distance, axis=1)\n",
    "#df_train.head()\n",
    "#df_test['distance'] = df_train[['pickup_longitude', 'pickup_latitude', 'dropoff_longitude', 'dropoff_latitude']].apply(haversine_distance, axis=1)"
   ]
  },
  {
   "cell_type": "code",
   "execution_count": 10,
   "metadata": {
    "_uuid": "95043731243f2a1c4f2e47fd8776a45ee7ba22dc"
   },
   "outputs": [],
   "source": [
    "df_train['distance'] = (abs(df_train['pickup_latitude']-df_train['dropoff_latitude'])\n",
    "                        + abs(df_train['pickup_longitude']-df_train['dropoff_longitude']))\n",
    "df_test['distance'] = (abs(df_test['pickup_latitude']-df_test['dropoff_latitude'])\n",
    "                        + abs(df_test['pickup_longitude']-df_test['dropoff_longitude']))"
   ]
  },
  {
   "cell_type": "code",
   "execution_count": 11,
   "metadata": {
    "_uuid": "37db39e8c1e03626a25473a02e64474da7faa555"
   },
   "outputs": [
    {
     "data": {
      "text/html": [
       "<div>\n",
       "<style scoped>\n",
       "    .dataframe tbody tr th:only-of-type {\n",
       "        vertical-align: middle;\n",
       "    }\n",
       "\n",
       "    .dataframe tbody tr th {\n",
       "        vertical-align: top;\n",
       "    }\n",
       "\n",
       "    .dataframe thead th {\n",
       "        text-align: right;\n",
       "    }\n",
       "</style>\n",
       "<table border=\"1\" class=\"dataframe\">\n",
       "  <thead>\n",
       "    <tr style=\"text-align: right;\">\n",
       "      <th></th>\n",
       "      <th>id</th>\n",
       "      <th>vendor_id</th>\n",
       "      <th>pickup_datetime</th>\n",
       "      <th>dropoff_datetime</th>\n",
       "      <th>passenger_count</th>\n",
       "      <th>pickup_longitude</th>\n",
       "      <th>pickup_latitude</th>\n",
       "      <th>dropoff_longitude</th>\n",
       "      <th>dropoff_latitude</th>\n",
       "      <th>store_and_fwd_flag</th>\n",
       "      <th>trip_duration</th>\n",
       "      <th>distance</th>\n",
       "    </tr>\n",
       "  </thead>\n",
       "  <tbody>\n",
       "    <tr>\n",
       "      <th>0</th>\n",
       "      <td>id2875421</td>\n",
       "      <td>2</td>\n",
       "      <td>2016-03-14 17:24:55</td>\n",
       "      <td>2016-03-14 17:32:30</td>\n",
       "      <td>1</td>\n",
       "      <td>-73.982155</td>\n",
       "      <td>40.767937</td>\n",
       "      <td>-73.964630</td>\n",
       "      <td>40.765602</td>\n",
       "      <td>N</td>\n",
       "      <td>455</td>\n",
       "      <td>0.019859</td>\n",
       "    </tr>\n",
       "    <tr>\n",
       "      <th>1</th>\n",
       "      <td>id2377394</td>\n",
       "      <td>1</td>\n",
       "      <td>2016-06-12 00:43:35</td>\n",
       "      <td>2016-06-12 00:54:38</td>\n",
       "      <td>1</td>\n",
       "      <td>-73.980415</td>\n",
       "      <td>40.738564</td>\n",
       "      <td>-73.999481</td>\n",
       "      <td>40.731152</td>\n",
       "      <td>N</td>\n",
       "      <td>663</td>\n",
       "      <td>0.026478</td>\n",
       "    </tr>\n",
       "    <tr>\n",
       "      <th>2</th>\n",
       "      <td>id3858529</td>\n",
       "      <td>2</td>\n",
       "      <td>2016-01-19 11:35:24</td>\n",
       "      <td>2016-01-19 12:10:48</td>\n",
       "      <td>1</td>\n",
       "      <td>-73.979027</td>\n",
       "      <td>40.763939</td>\n",
       "      <td>-74.005333</td>\n",
       "      <td>40.710087</td>\n",
       "      <td>N</td>\n",
       "      <td>2124</td>\n",
       "      <td>0.080158</td>\n",
       "    </tr>\n",
       "    <tr>\n",
       "      <th>3</th>\n",
       "      <td>id3504673</td>\n",
       "      <td>2</td>\n",
       "      <td>2016-04-06 19:32:31</td>\n",
       "      <td>2016-04-06 19:39:40</td>\n",
       "      <td>1</td>\n",
       "      <td>-74.010040</td>\n",
       "      <td>40.719971</td>\n",
       "      <td>-74.012268</td>\n",
       "      <td>40.706718</td>\n",
       "      <td>N</td>\n",
       "      <td>429</td>\n",
       "      <td>0.015480</td>\n",
       "    </tr>\n",
       "    <tr>\n",
       "      <th>4</th>\n",
       "      <td>id2181028</td>\n",
       "      <td>2</td>\n",
       "      <td>2016-03-26 13:30:55</td>\n",
       "      <td>2016-03-26 13:38:10</td>\n",
       "      <td>1</td>\n",
       "      <td>-73.973053</td>\n",
       "      <td>40.793209</td>\n",
       "      <td>-73.972923</td>\n",
       "      <td>40.782520</td>\n",
       "      <td>N</td>\n",
       "      <td>435</td>\n",
       "      <td>0.010818</td>\n",
       "    </tr>\n",
       "  </tbody>\n",
       "</table>\n",
       "</div>"
      ],
      "text/plain": [
       "          id  vendor_id    ...    trip_duration  distance\n",
       "0  id2875421          2    ...              455  0.019859\n",
       "1  id2377394          1    ...              663  0.026478\n",
       "2  id3858529          2    ...             2124  0.080158\n",
       "3  id3504673          2    ...              429  0.015480\n",
       "4  id2181028          2    ...              435  0.010818\n",
       "\n",
       "[5 rows x 12 columns]"
      ]
     },
     "execution_count": 11,
     "metadata": {},
     "output_type": "execute_result"
    }
   ],
   "source": [
    "df_train.head()"
   ]
  },
  {
   "cell_type": "code",
   "execution_count": 12,
   "metadata": {
    "_uuid": "34ca41eb35a70de9bb97c98b310dfffde1f7b95a"
   },
   "outputs": [],
   "source": [
    "#sns.set(rc={'figure.figsize':(15,10)})\n",
    "#sns.distplot(df_train['distance'],hist=False)"
   ]
  },
  {
   "cell_type": "markdown",
   "metadata": {
    "_uuid": "a2641557e63a3f87ffa1cd41eff046630b84a1be"
   },
   "source": [
    "# 3 Data preprocessing :"
   ]
  },
  {
   "cell_type": "markdown",
   "metadata": {
    "_uuid": "8f8e6aa972b693fb38a30a45180d0fbc6dcc921a"
   },
   "source": [
    "#### 3.1 Gestion des Outliers"
   ]
  },
  {
   "cell_type": "markdown",
   "metadata": {
    "_uuid": "2f7308d69d82d27f54875f6ba3ead397338ee040"
   },
   "source": [
    "Someone was on the road for 3526282sec ~ 40 days and someone made trips in 1-2 sec"
   ]
  },
  {
   "cell_type": "code",
   "execution_count": 13,
   "metadata": {
    "_uuid": "90834789886b41a470eb89c1c3085fa1c1216dff"
   },
   "outputs": [
    {
     "name": "stdout",
     "output_type": "stream",
     "text": [
      "Anomalies in trip duration, %: 0.73\n"
     ]
    }
   ],
   "source": [
    "duration_Proportion = ((df_train.trip_duration < 60) | # < 1 min \n",
    "             (df_train.trip_duration > 3600*3)) # > 3 hours\n",
    "print('Anomalies in trip duration, %: {:.2f}'.format(\n",
    "    df_train[duration_Proportion].shape[0] / df_train.shape[0] * 100))\n",
    "df_train = df_train[df_train['passenger_count']>= 1]\n",
    "\n",
    "df_train = df_train.loc[df_train['pickup_longitude']> -80]\n",
    "df_train = df_train.loc[df_train['pickup_latitude']< 44]\n",
    "df_train = df_train.loc[df_train['dropoff_longitude']> -90]\n",
    "df_train = df_train.loc[df_train['dropoff_latitude']> 34]\n"
   ]
  },
  {
   "cell_type": "code",
   "execution_count": 14,
   "metadata": {
    "_uuid": "53ca274aba857c618daec823087d71187dbe2082"
   },
   "outputs": [
    {
     "name": "stderr",
     "output_type": "stream",
     "text": [
      "/opt/conda/lib/python3.6/site-packages/ipykernel_launcher.py:2: UserWarning: Boolean Series key will be reindexed to match DataFrame index.\n",
      "  \n"
     ]
    },
    {
     "name": "stdout",
     "output_type": "stream",
     "text": [
      "Trip duration in seconds: 60 to 10731\n"
     ]
    }
   ],
   "source": [
    "#delete\n",
    "df_train = df_train[~duration_Proportion]\n",
    "#Check\n",
    "print('Trip duration in seconds: {} to {}'.format(\n",
    "    df_train.trip_duration.min(), df_train.trip_duration.max()\n",
    "))"
   ]
  },
  {
   "cell_type": "code",
   "execution_count": 15,
   "metadata": {
    "_uuid": "499036898f39ebdd34689f26e513615c33aa4de8",
    "scrolled": false
   },
   "outputs": [
    {
     "name": "stderr",
     "output_type": "stream",
     "text": [
      "/opt/conda/lib/python3.6/site-packages/scipy/stats/stats.py:1713: FutureWarning: Using a non-tuple sequence for multidimensional indexing is deprecated; use `arr[tuple(seq)]` instead of `arr[seq]`. In the future this will be interpreted as an array index, `arr[np.array(seq)]`, which will result either in an error or a different result.\n",
      "  return np.add.reduce(sorted[indexer] * weights, axis=axis) / sumval\n"
     ]
    },
    {
     "data": {
      "text/plain": [
       "Text(0.5,0,'Trip Duration')"
      ]
     },
     "execution_count": 15,
     "metadata": {},
     "output_type": "execute_result"
    },
    {
     "data": {
      "image/png": "[encoded data removed]",
      "text/plain": [
       "<Figure size 576x360 with 1 Axes>"
      ]
     },
     "metadata": {},
     "output_type": "display_data"
    }
   ],
   "source": [
    "plt.figure(figsize=(8,5))\n",
    "sns.distplot(df_train['trip_duration']).set_title(\"Distribution of Trip Duration\")\n",
    "plt.xlabel(\"Trip Duration\")"
   ]
  },
  {
   "cell_type": "markdown",
   "metadata": {
    "_uuid": "59f2f085de9060e9e52ed80a760f3d9b5fed62eb"
   },
   "source": [
    "reduces the impact of outliers"
   ]
  },
  {
   "cell_type": "code",
   "execution_count": 16,
   "metadata": {
    "_uuid": "cb03447f303d66af756ea5d316cbe1390c2f9c41"
   },
   "outputs": [],
   "source": [
    "df_train['trip_duration'] = np.log(df_train['trip_duration'].values)"
   ]
  },
  {
   "cell_type": "markdown",
   "metadata": {
    "_uuid": "5d626f79044391e8de34947de50536431195f145"
   },
   "source": [
    "#### 3.2 Missing values handling"
   ]
  },
  {
   "cell_type": "code",
   "execution_count": 17,
   "metadata": {
    "_uuid": "dac25f75777cd465c8da4e9fbefb0de913773430"
   },
   "outputs": [
    {
     "data": {
      "text/plain": [
       "id                    0.0\n",
       "vendor_id             0.0\n",
       "pickup_datetime       0.0\n",
       "dropoff_datetime      0.0\n",
       "passenger_count       0.0\n",
       "pickup_longitude      0.0\n",
       "pickup_latitude       0.0\n",
       "dropoff_longitude     0.0\n",
       "dropoff_latitude      0.0\n",
       "store_and_fwd_flag    0.0\n",
       "trip_duration         0.0\n",
       "distance              0.0\n",
       "dtype: float64"
      ]
     },
     "execution_count": 17,
     "metadata": {},
     "output_type": "execute_result"
    }
   ],
   "source": [
    "df_train[pd.isnull(df_train)].sum()"
   ]
  },
  {
   "cell_type": "markdown",
   "metadata": {
    "_uuid": "8697ebe862a90dfcb4e2cb46e6cd2ea2ad2a65e6"
   },
   "source": [
    "No missing Values"
   ]
  },
  {
   "cell_type": "markdown",
   "metadata": {
    "_uuid": "e557595f66c289346c6a55cd2daea477f58d8bf5"
   },
   "source": [
    "#### 3.3 Gestion des variables catégoriques"
   ]
  },
  {
   "cell_type": "markdown",
   "metadata": {
    "_uuid": "59796dda11a5196daa663dd4fdb8b5bc0a889773"
   },
   "source": [
    "convert pickup dateime and dropoff datetime into date-time object"
   ]
  },
  {
   "cell_type": "code",
   "execution_count": 18,
   "metadata": {
    "_uuid": "e484b92435625c43dda0057f9c915c4e0fd8ecbc"
   },
   "outputs": [],
   "source": [
    "df_train['pickup_datetime'] = pd.to_datetime(df_train['pickup_datetime'], format='%Y-%m-%d %H:%M:%S')\n",
    "df_test['pickup_datetime'] = pd.to_datetime(df_test['pickup_datetime'], format='%Y-%m-%d %H:%M:%S')"
   ]
  },
  {
   "cell_type": "code",
   "execution_count": 19,
   "metadata": {
    "_uuid": "3552b1b98c9d63af033ed8a83751fc2973bcf733"
   },
   "outputs": [],
   "source": [
    "df_train['hour'] = df_train.loc[:,'pickup_datetime'].dt.hour;\n",
    "df_train['week'] = df_train.loc[:,'pickup_datetime'].dt.week;\n",
    "df_train['weekday'] = df_train.loc[:,'pickup_datetime'].dt.weekday;\n",
    "df_train['hour'] = df_train.loc[:,'pickup_datetime'].dt.hour;\n",
    "df_train['month'] = df_train.loc[:,'pickup_datetime'].dt.month;\n",
    "\n",
    "df_test['hour'] = df_test.loc[:,'pickup_datetime'].dt.hour;\n",
    "df_test['week'] = df_test.loc[:,'pickup_datetime'].dt.week;\n",
    "df_test['weekday'] = df_test.loc[:,'pickup_datetime'].dt.weekday;\n",
    "df_test['hour'] = df_test.loc[:,'pickup_datetime'].dt.hour;\n",
    "df_test['month'] = df_test.loc[:,'pickup_datetime'].dt.month;"
   ]
  },
  {
   "cell_type": "markdown",
   "metadata": {
    "_uuid": "b6e0337fe15e6aaeca2af981ee2ec87c11282092"
   },
   "source": [
    "# 4 Features engineering :"
   ]
  },
  {
   "cell_type": "markdown",
   "metadata": {
    "_uuid": "0321fa11d31ed587bc77c9f6e8a40b765213ea0e"
   },
   "source": [
    "#### 4.1 Features selection"
   ]
  },
  {
   "cell_type": "code",
   "execution_count": 20,
   "metadata": {
    "_uuid": "4bc967c60f74bbf3ba02e93366f534ee9e24262b"
   },
   "outputs": [],
   "source": [
    "y_train = df_train[\"trip_duration\"]\n",
    "X_train = df_train[[\"vendor_id\", \"passenger_count\", \"pickup_longitude\", \"pickup_latitude\", \"dropoff_longitude\",\"dropoff_latitude\", \"distance\", \"hour\", \"week\", \"weekday\", \"month\" ]]\n"
   ]
  },
  {
   "cell_type": "markdown",
   "metadata": {
    "_uuid": "2348f72758fc70c1e49a6e8ea1babde1ab70e353"
   },
   "source": [
    "#### 4.2 Features extraction"
   ]
  },
  {
   "cell_type": "markdown",
   "metadata": {
    "_uuid": "05217c9180b326bd4780cb4a24ebde9126607480"
   },
   "source": [
    "#### 4.3 Features creation"
   ]
  },
  {
   "cell_type": "markdown",
   "metadata": {
    "_uuid": "1f35657594b693dbb6c12b105f0f2df20af6ac54"
   },
   "source": [
    "# 5 Choix d'un méthode de validation"
   ]
  },
  {
   "cell_type": "code",
   "execution_count": 21,
   "metadata": {
    "_uuid": "2300405e6077824bd160ead374f6cd365f01f346"
   },
   "outputs": [],
   "source": [
    "from sklearn.model_selection import train_test_split\n",
    "X_train, X_valid, y_train, y_valid = train_test_split(X_train, y_train,test_size=0.2, random_state=42)"
   ]
  },
  {
   "cell_type": "code",
   "execution_count": 22,
   "metadata": {
    "_uuid": "9708789cdee2129984ff662fec36229a95e4cba6"
   },
   "outputs": [
    {
     "name": "stdout",
     "output_type": "stream",
     "text": [
      "CPU times: user 6min 19s, sys: 456 ms, total: 6min 19s\n",
      "Wall time: 3min 15s\n"
     ]
    }
   ],
   "source": [
    "%%time\n",
    "from sklearn.ensemble import RandomForestRegressor\n",
    "m = RandomForestRegressor(n_estimators=35,min_samples_leaf=100, min_samples_split=100, n_jobs=-1)\n",
    "m.fit(X_train, y_train)"
   ]
  },
  {
   "cell_type": "markdown",
   "metadata": {
    "_uuid": "0cf00827fbbd2522de5b88cfc8c58a694466ab3a"
   },
   "source": [
    "# 6 Sélection de modèles et/ou datasets (si il y en a plusieurs)"
   ]
  },
  {
   "cell_type": "markdown",
   "metadata": {
    "_uuid": "0aa81f964535852e35aaf043ec480e9e4f6f5ef1"
   },
   "source": [
    "# 7 Entrainement du ou des modèle(s)"
   ]
  },
  {
   "cell_type": "markdown",
   "metadata": {
    "_uuid": "06e691a1ec72def6bbc07b7a683ced970a5ff205"
   },
   "source": [
    "Validation"
   ]
  },
  {
   "cell_type": "code",
   "execution_count": 23,
   "metadata": {
    "_uuid": "ee1b79f0ae3f32f6c711430799b16d98afd290db"
   },
   "outputs": [
    {
     "data": {
      "text/plain": [
       "array([6.5090018 , 6.35237708, 6.16264463, ..., 7.27331353, 7.38995481,\n",
       "       7.02490021])"
      ]
     },
     "execution_count": 23,
     "metadata": {},
     "output_type": "execute_result"
    }
   ],
   "source": [
    "X_test = df_test[[\"vendor_id\", \"passenger_count\",\"pickup_longitude\", \"pickup_latitude\",\"dropoff_longitude\",\"dropoff_latitude\",\"distance\", \"hour\", \"week\", \"weekday\", \"month\"]]\n",
    "prediction = m.predict(X_test)\n",
    "prediction"
   ]
  },
  {
   "cell_type": "markdown",
   "metadata": {
    "_uuid": "76293a1d47157ce2a6c20f6af513cc5b7e81c003"
   },
   "source": [
    "# 8 Prédictions"
   ]
  },
  {
   "cell_type": "code",
   "execution_count": 24,
   "metadata": {
    "_uuid": "5307c39f4d4d6fc746718cbb7695c14dfd3d1ffb"
   },
   "outputs": [
    {
     "data": {
      "text/html": [
       "<div>\n",
       "<style scoped>\n",
       "    .dataframe tbody tr th:only-of-type {\n",
       "        vertical-align: middle;\n",
       "    }\n",
       "\n",
       "    .dataframe tbody tr th {\n",
       "        vertical-align: top;\n",
       "    }\n",
       "\n",
       "    .dataframe thead th {\n",
       "        text-align: right;\n",
       "    }\n",
       "</style>\n",
       "<table border=\"1\" class=\"dataframe\">\n",
       "  <thead>\n",
       "    <tr style=\"text-align: right;\">\n",
       "      <th></th>\n",
       "      <th>id</th>\n",
       "      <th>trip_duration</th>\n",
       "    </tr>\n",
       "  </thead>\n",
       "  <tbody>\n",
       "    <tr>\n",
       "      <th>0</th>\n",
       "      <td>id3004672</td>\n",
       "      <td>959</td>\n",
       "    </tr>\n",
       "    <tr>\n",
       "      <th>1</th>\n",
       "      <td>id3505355</td>\n",
       "      <td>959</td>\n",
       "    </tr>\n",
       "    <tr>\n",
       "      <th>2</th>\n",
       "      <td>id1217141</td>\n",
       "      <td>959</td>\n",
       "    </tr>\n",
       "    <tr>\n",
       "      <th>3</th>\n",
       "      <td>id2150126</td>\n",
       "      <td>959</td>\n",
       "    </tr>\n",
       "    <tr>\n",
       "      <th>4</th>\n",
       "      <td>id1598245</td>\n",
       "      <td>959</td>\n",
       "    </tr>\n",
       "  </tbody>\n",
       "</table>\n",
       "</div>"
      ],
      "text/plain": [
       "          id  trip_duration\n",
       "0  id3004672            959\n",
       "1  id3505355            959\n",
       "2  id1217141            959\n",
       "3  id2150126            959\n",
       "4  id1598245            959"
      ]
     },
     "execution_count": 24,
     "metadata": {},
     "output_type": "execute_result"
    }
   ],
   "source": [
    "submit = pd.read_csv('../input/sample_submission.csv')\n",
    "submit.head()"
   ]
  },
  {
   "cell_type": "code",
   "execution_count": 25,
   "metadata": {
    "_uuid": "b9a188e2c61e36c9c6798b4537e90b9a07436149"
   },
   "outputs": [
    {
     "data": {
      "text/html": [
       "<div>\n",
       "<style scoped>\n",
       "    .dataframe tbody tr th:only-of-type {\n",
       "        vertical-align: middle;\n",
       "    }\n",
       "\n",
       "    .dataframe tbody tr th {\n",
       "        vertical-align: top;\n",
       "    }\n",
       "\n",
       "    .dataframe thead th {\n",
       "        text-align: right;\n",
       "    }\n",
       "</style>\n",
       "<table border=\"1\" class=\"dataframe\">\n",
       "  <thead>\n",
       "    <tr style=\"text-align: right;\">\n",
       "      <th></th>\n",
       "      <th>id</th>\n",
       "      <th>trip_duration</th>\n",
       "    </tr>\n",
       "  </thead>\n",
       "  <tbody>\n",
       "    <tr>\n",
       "      <th>0</th>\n",
       "      <td>id3004672</td>\n",
       "      <td>671.156138</td>\n",
       "    </tr>\n",
       "    <tr>\n",
       "      <th>1</th>\n",
       "      <td>id3505355</td>\n",
       "      <td>573.855187</td>\n",
       "    </tr>\n",
       "    <tr>\n",
       "      <th>2</th>\n",
       "      <td>id1217141</td>\n",
       "      <td>474.681773</td>\n",
       "    </tr>\n",
       "    <tr>\n",
       "      <th>3</th>\n",
       "      <td>id2150126</td>\n",
       "      <td>1106.369517</td>\n",
       "    </tr>\n",
       "    <tr>\n",
       "      <th>4</th>\n",
       "      <td>id1598245</td>\n",
       "      <td>375.384305</td>\n",
       "    </tr>\n",
       "  </tbody>\n",
       "</table>\n",
       "</div>"
      ],
      "text/plain": [
       "          id  trip_duration\n",
       "0  id3004672     671.156138\n",
       "1  id3505355     573.855187\n",
       "2  id1217141     474.681773\n",
       "3  id2150126    1106.369517\n",
       "4  id1598245     375.384305"
      ]
     },
     "execution_count": 25,
     "metadata": {},
     "output_type": "execute_result"
    }
   ],
   "source": [
    "my_submission = pd.DataFrame({'id': df_test.id, 'trip_duration': np.exp(prediction)})\n",
    "my_submission.head()"
   ]
  },
  {
   "cell_type": "code",
   "execution_count": 26,
   "metadata": {
    "_uuid": "6176e7f4d843c99b5678917ef8ced9b47a2a7f24"
   },
   "outputs": [],
   "source": [
    "my_submission.to_csv('submission.csv', index=False)"
   ]
  },
  {
   "cell_type": "markdown",
   "metadata": {
    "_uuid": "85a81ce612045a4c0942a880ab05edf2b5f10823"
   },
   "source": []
  }
 ],
 "metadata": {
  "kernelspec": {
   "display_name": "Python 3",
   "language": "python",
   "name": "python3"
  },
  "language_info": {
   "codemirror_mode": {
    "name": "ipython",
    "version": 3
   },
   "file_extension": ".py",
   "mimetype": "text/x-python",
   "name": "python",
   "nbconvert_exporter": "python",
   "pygments_lexer": "ipython3",
   "version": "3.6.6"
  }
 },
 "nbformat": 4,
 "nbformat_minor": 1
}
