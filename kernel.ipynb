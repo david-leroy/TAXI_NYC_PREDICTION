{
  "cells": [
    {
      "metadata": {
        "_uuid": "0174f77a5c1aaac5e515cac9479f2d973715fc8a"
      },
      "cell_type": "markdown",
      "source": "## Data Fields\n\n- id - a unique identifier for each trip\n- vendor_id - a code indicating the provider associated with the trip record\n- pickup_datetime - date and time when the meter was engaged\n- dropoff_datetime - date and time when the meter was disengaged\n- passenger_count - the number of passengers in the vehicle (driver entered value)\n- pickup_longitude - the longitude where the meter was engaged\n- pickup_latitude - the latitude where the meter was engaged\n- dropoff_longitude - the longitude where the meter was disengaged\n- dropoff_latitude - the latitude where the meter was disengaged\n- store_and_fwd_flag - This flag indicates whether the trip record was held in vehicle memory before sending to the vendor because the vehicle did not have a connection to the server - Y=store and forward; N=not a store and forward trip\n- trip_duration - duration of the trip in seconds, target variable"
    },
    {
      "metadata": {
        "_uuid": "af3b1cd450502ee466b1972d572bc8b21635b12b"
      },
      "cell_type": "markdown",
      "source": "# Import\n"
    },
    {
      "metadata": {
        "trusted": true,
        "_uuid": "ee2479a8187a900145c35775cfd91311582a8d8a"
      },
      "cell_type": "code",
      "source": "import numpy as np\nimport pandas as pd\n\nimport matplotlib.pyplot as plt\nimport seaborn as sns\n%matplotlib inline\n\nfrom datetime import datetime\n\nimport os\nfrom pathlib import Path\nprint(os.listdir(\"../input\"))",
      "execution_count": 100,
      "outputs": [
        {
          "output_type": "stream",
          "text": "['train.csv', 'sample_submission.csv', 'test.csv']\n",
          "name": "stdout"
        }
      ]
    },
    {
      "metadata": {
        "_uuid": "4229ad20e8ad70f9db959795e436f9f336a7b3bf"
      },
      "cell_type": "markdown",
      "source": "# 1 Data loading"
    },
    {
      "metadata": {
        "trusted": true,
        "_uuid": "2495e55771fd0aa61f782331c9558fddef491f5a"
      },
      "cell_type": "code",
      "source": "df_train = pd.read_csv('../input/train.csv')\ndf_test = pd.read_csv('../input/test.csv')",
      "execution_count": 101,
      "outputs": []
    },
    {
      "metadata": {
        "trusted": true,
        "_uuid": "c9e06642d8b0b51fe7afee3f7b9bc4ebb708faee"
      },
      "cell_type": "code",
      "source": "df_train.head()",
      "execution_count": 102,
      "outputs": [
        {
          "output_type": "execute_result",
          "execution_count": 102,
          "data": {
            "text/plain": "          id  vendor_id      ...      store_and_fwd_flag trip_duration\n0  id2875421          2      ...                       N           455\n1  id2377394          1      ...                       N           663\n2  id3858529          2      ...                       N          2124\n3  id3504673          2      ...                       N           429\n4  id2181028          2      ...                       N           435\n\n[5 rows x 11 columns]",
            "text/html": "<div>\n<style scoped>\n    .dataframe tbody tr th:only-of-type {\n        vertical-align: middle;\n    }\n\n    .dataframe tbody tr th {\n        vertical-align: top;\n    }\n\n    .dataframe thead th {\n        text-align: right;\n    }\n</style>\n<table border=\"1\" class=\"dataframe\">\n  <thead>\n    <tr style=\"text-align: right;\">\n      <th></th>\n      <th>id</th>\n      <th>vendor_id</th>\n      <th>pickup_datetime</th>\n      <th>dropoff_datetime</th>\n      <th>passenger_count</th>\n      <th>pickup_longitude</th>\n      <th>pickup_latitude</th>\n      <th>dropoff_longitude</th>\n      <th>dropoff_latitude</th>\n      <th>store_and_fwd_flag</th>\n      <th>trip_duration</th>\n    </tr>\n  </thead>\n  <tbody>\n    <tr>\n      <th>0</th>\n      <td>id2875421</td>\n      <td>2</td>\n      <td>2016-03-14 17:24:55</td>\n      <td>2016-03-14 17:32:30</td>\n      <td>1</td>\n      <td>-73.982155</td>\n      <td>40.767937</td>\n      <td>-73.964630</td>\n      <td>40.765602</td>\n      <td>N</td>\n      <td>455</td>\n    </tr>\n    <tr>\n      <th>1</th>\n      <td>id2377394</td>\n      <td>1</td>\n      <td>2016-06-12 00:43:35</td>\n      <td>2016-06-12 00:54:38</td>\n      <td>1</td>\n      <td>-73.980415</td>\n      <td>40.738564</td>\n      <td>-73.999481</td>\n      <td>40.731152</td>\n      <td>N</td>\n      <td>663</td>\n    </tr>\n    <tr>\n      <th>2</th>\n      <td>id3858529</td>\n      <td>2</td>\n      <td>2016-01-19 11:35:24</td>\n      <td>2016-01-19 12:10:48</td>\n      <td>1</td>\n      <td>-73.979027</td>\n      <td>40.763939</td>\n      <td>-74.005333</td>\n      <td>40.710087</td>\n      <td>N</td>\n      <td>2124</td>\n    </tr>\n    <tr>\n      <th>3</th>\n      <td>id3504673</td>\n      <td>2</td>\n      <td>2016-04-06 19:32:31</td>\n      <td>2016-04-06 19:39:40</td>\n      <td>1</td>\n      <td>-74.010040</td>\n      <td>40.719971</td>\n      <td>-74.012268</td>\n      <td>40.706718</td>\n      <td>N</td>\n      <td>429</td>\n    </tr>\n    <tr>\n      <th>4</th>\n      <td>id2181028</td>\n      <td>2</td>\n      <td>2016-03-26 13:30:55</td>\n      <td>2016-03-26 13:38:10</td>\n      <td>1</td>\n      <td>-73.973053</td>\n      <td>40.793209</td>\n      <td>-73.972923</td>\n      <td>40.782520</td>\n      <td>N</td>\n      <td>435</td>\n    </tr>\n  </tbody>\n</table>\n</div>"
          },
          "metadata": {}
        }
      ]
    },
    {
      "metadata": {
        "trusted": true,
        "_uuid": "fef89e249042ce9a3ca59a96fdfb20a16b405fdd"
      },
      "cell_type": "code",
      "source": "# check data usage\nprint('Memory usage, Mb: {:.2f}\\n'.format(df_train.memory_usage().sum()/2**20))\n\n# overall df info\nprint('---------------- DataFrame Info -----------------')\nprint(df_train.info())",
      "execution_count": 103,
      "outputs": [
        {
          "output_type": "stream",
          "text": "Memory usage, Mb: 122.41\n\n---------------- DataFrame Info -----------------\n<class 'pandas.core.frame.DataFrame'>\nRangeIndex: 1458644 entries, 0 to 1458643\nData columns (total 11 columns):\nid                    1458644 non-null object\nvendor_id             1458644 non-null int64\npickup_datetime       1458644 non-null object\ndropoff_datetime      1458644 non-null object\npassenger_count       1458644 non-null int64\npickup_longitude      1458644 non-null float64\npickup_latitude       1458644 non-null float64\ndropoff_longitude     1458644 non-null float64\ndropoff_latitude      1458644 non-null float64\nstore_and_fwd_flag    1458644 non-null object\ntrip_duration         1458644 non-null int64\ndtypes: float64(4), int64(3), object(4)\nmemory usage: 122.4+ MB\nNone\n",
          "name": "stdout"
        }
      ]
    },
    {
      "metadata": {
        "_uuid": "cf5fe17904864806a2e478131fe6d02745b4297c"
      },
      "cell_type": "markdown",
      "source": "# 2 Data exploration"
    },
    {
      "metadata": {
        "_uuid": "b5c4a2891bca566ec64ec8c128da9a540034f6c5"
      },
      "cell_type": "markdown",
      "source": "#### 2.1 Check for N/A values"
    },
    {
      "metadata": {
        "trusted": true,
        "_uuid": "302db5f7a6a1e61b4c2bae7211b7aca67c4d9847"
      },
      "cell_type": "code",
      "source": "print(df_train.isnull().sum())",
      "execution_count": 104,
      "outputs": [
        {
          "output_type": "stream",
          "text": "id                    0\nvendor_id             0\npickup_datetime       0\ndropoff_datetime      0\npassenger_count       0\npickup_longitude      0\npickup_latitude       0\ndropoff_longitude     0\ndropoff_latitude      0\nstore_and_fwd_flag    0\ntrip_duration         0\ndtype: int64\n",
          "name": "stdout"
        }
      ]
    },
    {
      "metadata": {
        "_uuid": "0595c763abb25eb2f1cce7154dd832c6dbbd5bd6"
      },
      "cell_type": "markdown",
      "source": "**No N/A values**"
    },
    {
      "metadata": {
        "_uuid": "edc99d9c58270fc94dbbd1311c12a506d83fc6d7"
      },
      "cell_type": "markdown",
      "source": "#### 2.2 Check for Outliers"
    },
    {
      "metadata": {
        "trusted": true,
        "_uuid": "ef8cabaa3f0bfc60f95c3ec7a836310dc0c9fbce"
      },
      "cell_type": "code",
      "source": "print('----------------distance Outliers-------------------')\nprint('Latitude : {} to {}'.format(\n    max(df_train.pickup_latitude.min(), df_train.dropoff_latitude.min()),\n    max(df_train.pickup_latitude.max(), df_train.dropoff_latitude.max())\n))\nprint('Longitude : {} to {}'.format(\n    max(df_train.pickup_longitude.min(), df_train.dropoff_longitude.min()),\n    max(df_train.pickup_longitude.max(), df_train.dropoff_longitude.max())\n))\nprint('')\nprint('------------------Time Outliers---------------------')\nprint('Trip duration in seconds: {} to {}'.format(\n    df_train.trip_duration.min(), df_train.trip_duration.max()))\n\nprint('')\nprint('------------------Date Outliers---------------------')\nprint('Datetime range: {} to {}'.format(df_train.pickup_datetime.min(), \n                                        df_train.dropoff_datetime.max()))\nprint('')\nprint('----------------Passengers Outliers------------------')\nprint('Passengers: {} to {}'.format(df_train.passenger_count.min(), \n                                        df_train.passenger_count.max()))",
      "execution_count": 105,
      "outputs": [
        {
          "output_type": "stream",
          "text": "----------------distance Outliers-------------------\nLatitude : 34.359695434570305 to 51.88108444213867\nLongitude : -121.9333038330078 to -61.33552932739258\n\n------------------Time Outliers---------------------\nTrip duration in seconds: 1 to 3526282\n\n------------------Date Outliers---------------------\nDatetime range: 2016-01-01 00:00:17 to 2016-07-01 23:02:03\n\n----------------Passengers Outliers------------------\nPassengers: 0 to 9\n",
          "name": "stdout"
        }
      ]
    },
    {
      "metadata": {
        "_uuid": "8f0704b1eaa1a3cdab772f458651004a6b99bd2e"
      },
      "cell_type": "markdown",
      "source": "#### 2.3 Check duplicates values"
    },
    {
      "metadata": {
        "trusted": true,
        "_uuid": "c78a1c2b2e670016297ab4bf0e1ed9be40d14a59"
      },
      "cell_type": "code",
      "source": "print('duplicates IDs: {}'.format(len(df_train) - len(df_train.drop_duplicates(subset='id'))))",
      "execution_count": 106,
      "outputs": [
        {
          "output_type": "stream",
          "text": "duplicates IDs: 0\n",
          "name": "stdout"
        }
      ]
    },
    {
      "metadata": {
        "_uuid": "0758b79fbef43a916607fb7a5401a19d6b46acc3"
      },
      "cell_type": "markdown",
      "source": "#### 2.4 Distances calculator"
    },
    {
      "metadata": {
        "_uuid": "cab6d752fbe9ce290d145daf2d3e5d00dc2f7c5e"
      },
      "cell_type": "markdown",
      "source": "To make this calculation, has to be used Haversine Formula, instead Euclidean distance, because latitude and longitue are points in sphere and not in plain.\n\nThe implementation below to Haversine Formula it is from Aaron D, on StackOverflow. To extend precision of this calculation was used double precision, from numpy."
    },
    {
      "metadata": {
        "trusted": true,
        "_uuid": "01810ad8e7486ee536f6ff629b2c0c716426d9d5"
      },
      "cell_type": "code",
      "source": "from math import radians, cos, sin, asin, sqrt\n\ndef haversine(lon1, lat1, lon2, lat2):\n    \"\"\"\n    Calculate the great circle distance between two points \n    on the earth (specified in decimal degrees)\n    \"\"\"\n    # convert decimal degrees to radians \n    lon1, lat1, lon2, lat2 = map(radians, [lon1, lat1, lon2, lat2])\n    # haversine formula \n    dlon = lon2 - lon1 \n    dlat = lat2 - lat1 \n    a = sin(dlat/2)**2 + cos(lat1) * cos(lat2) * sin(dlon/2)**2\n    c = 2 * asin(sqrt(a)) \n    # Radius of earth in kilometers is 6371\n    km = 6371* c\n    return km\n\ndef haversine_distance(x):\n    x1, y1 = np.float64(x['pickup_longitude']), np.float64(x['pickup_latitude'])\n    x2, y2 = np.float64(x['dropoff_longitude']), np.float64(x['dropoff_latitude'])    \n    return haversine(x1, y1, x2, y2)",
      "execution_count": 107,
      "outputs": []
    },
    {
      "metadata": {
        "trusted": true,
        "_uuid": "690d0cfa934aee4df6a3a0cfc1a3494f8f2b8b5c"
      },
      "cell_type": "code",
      "source": "#trop LONG et peu précis\n#%%time\n#df_train['distance'] = df_train[['pickup_longitude', 'pickup_latitude', 'dropoff_longitude', 'dropoff_latitude']].apply(haversine_distance, axis=1)\n#df_train.head()\n#df_test['distance'] = df_train[['pickup_longitude', 'pickup_latitude', 'dropoff_longitude', 'dropoff_latitude']].apply(haversine_distance, axis=1)",
      "execution_count": 108,
      "outputs": []
    },
    {
      "metadata": {
        "trusted": true,
        "_uuid": "95043731243f2a1c4f2e47fd8776a45ee7ba22dc"
      },
      "cell_type": "code",
      "source": "df_train['distance'] = (abs(df_train['pickup_latitude']-df_train['dropoff_latitude'])\n                        + abs(df_train['pickup_longitude']-df_train['dropoff_longitude']))\ndf_test['distance'] = (abs(df_test['pickup_latitude']-df_test['dropoff_latitude'])\n                        + abs(df_test['pickup_longitude']-df_test['dropoff_longitude']))",
      "execution_count": 109,
      "outputs": []
    },
    {
      "metadata": {
        "trusted": true,
        "_uuid": "37db39e8c1e03626a25473a02e64474da7faa555"
      },
      "cell_type": "code",
      "source": "df_train.head()",
      "execution_count": 110,
      "outputs": [
        {
          "output_type": "execute_result",
          "execution_count": 110,
          "data": {
            "text/plain": "          id  vendor_id    ...    trip_duration  distance\n0  id2875421          2    ...              455  0.019859\n1  id2377394          1    ...              663  0.026478\n2  id3858529          2    ...             2124  0.080158\n3  id3504673          2    ...              429  0.015480\n4  id2181028          2    ...              435  0.010818\n\n[5 rows x 12 columns]",
            "text/html": "<div>\n<style scoped>\n    .dataframe tbody tr th:only-of-type {\n        vertical-align: middle;\n    }\n\n    .dataframe tbody tr th {\n        vertical-align: top;\n    }\n\n    .dataframe thead th {\n        text-align: right;\n    }\n</style>\n<table border=\"1\" class=\"dataframe\">\n  <thead>\n    <tr style=\"text-align: right;\">\n      <th></th>\n      <th>id</th>\n      <th>vendor_id</th>\n      <th>pickup_datetime</th>\n      <th>dropoff_datetime</th>\n      <th>passenger_count</th>\n      <th>pickup_longitude</th>\n      <th>pickup_latitude</th>\n      <th>dropoff_longitude</th>\n      <th>dropoff_latitude</th>\n      <th>store_and_fwd_flag</th>\n      <th>trip_duration</th>\n      <th>distance</th>\n    </tr>\n  </thead>\n  <tbody>\n    <tr>\n      <th>0</th>\n      <td>id2875421</td>\n      <td>2</td>\n      <td>2016-03-14 17:24:55</td>\n      <td>2016-03-14 17:32:30</td>\n      <td>1</td>\n      <td>-73.982155</td>\n      <td>40.767937</td>\n      <td>-73.964630</td>\n      <td>40.765602</td>\n      <td>N</td>\n      <td>455</td>\n      <td>0.019859</td>\n    </tr>\n    <tr>\n      <th>1</th>\n      <td>id2377394</td>\n      <td>1</td>\n      <td>2016-06-12 00:43:35</td>\n      <td>2016-06-12 00:54:38</td>\n      <td>1</td>\n      <td>-73.980415</td>\n      <td>40.738564</td>\n      <td>-73.999481</td>\n      <td>40.731152</td>\n      <td>N</td>\n      <td>663</td>\n      <td>0.026478</td>\n    </tr>\n    <tr>\n      <th>2</th>\n      <td>id3858529</td>\n      <td>2</td>\n      <td>2016-01-19 11:35:24</td>\n      <td>2016-01-19 12:10:48</td>\n      <td>1</td>\n      <td>-73.979027</td>\n      <td>40.763939</td>\n      <td>-74.005333</td>\n      <td>40.710087</td>\n      <td>N</td>\n      <td>2124</td>\n      <td>0.080158</td>\n    </tr>\n    <tr>\n      <th>3</th>\n      <td>id3504673</td>\n      <td>2</td>\n      <td>2016-04-06 19:32:31</td>\n      <td>2016-04-06 19:39:40</td>\n      <td>1</td>\n      <td>-74.010040</td>\n      <td>40.719971</td>\n      <td>-74.012268</td>\n      <td>40.706718</td>\n      <td>N</td>\n      <td>429</td>\n      <td>0.015480</td>\n    </tr>\n    <tr>\n      <th>4</th>\n      <td>id2181028</td>\n      <td>2</td>\n      <td>2016-03-26 13:30:55</td>\n      <td>2016-03-26 13:38:10</td>\n      <td>1</td>\n      <td>-73.973053</td>\n      <td>40.793209</td>\n      <td>-73.972923</td>\n      <td>40.782520</td>\n      <td>N</td>\n      <td>435</td>\n      <td>0.010818</td>\n    </tr>\n  </tbody>\n</table>\n</div>"
          },
          "metadata": {}
        }
      ]
    },
    {
      "metadata": {
        "trusted": true,
        "_uuid": "34ca41eb35a70de9bb97c98b310dfffde1f7b95a"
      },
      "cell_type": "code",
      "source": "#sns.set(rc={'figure.figsize':(15,10)})\n#sns.distplot(df_train['distance'],hist=False)",
      "execution_count": 111,
      "outputs": []
    },
    {
      "metadata": {
        "_uuid": "a2641557e63a3f87ffa1cd41eff046630b84a1be"
      },
      "cell_type": "markdown",
      "source": "# 3 Data preprocessing :"
    },
    {
      "metadata": {
        "_uuid": "8f8e6aa972b693fb38a30a45180d0fbc6dcc921a"
      },
      "cell_type": "markdown",
      "source": "#### 3.1 Gestion des Outliers"
    },
    {
      "metadata": {
        "_uuid": "2f7308d69d82d27f54875f6ba3ead397338ee040"
      },
      "cell_type": "markdown",
      "source": "Someone was on the road for 3526282sec ~ 40 days and someone made trips in 1-2 sec"
    },
    {
      "metadata": {
        "trusted": true,
        "_uuid": "90834789886b41a470eb89c1c3085fa1c1216dff"
      },
      "cell_type": "code",
      "source": "duration_Proportion = ((df_train.trip_duration < 60) | # < 1 min \n             (df_train.trip_duration > 3600*3)) # > 3 hours\nprint('Anomalies in trip duration, %: {:.2f}'.format(\n    df_train[duration_Proportion].shape[0] / df_train.shape[0] * 100))\ndf_train = df_train[df_train['passenger_count']>= 1]\n\ndf_train = df_train.loc[df_train['pickup_longitude']> -80]\ndf_train = df_train.loc[df_train['pickup_latitude']< 44]\ndf_train = df_train.loc[df_train['dropoff_longitude']> -90]\ndf_train = df_train.loc[df_train['dropoff_latitude']> 34]\n",
      "execution_count": 112,
      "outputs": [
        {
          "output_type": "stream",
          "text": "Anomalies in trip duration, %: 0.73\n",
          "name": "stdout"
        }
      ]
    },
    {
      "metadata": {
        "trusted": true,
        "_uuid": "53ca274aba857c618daec823087d71187dbe2082"
      },
      "cell_type": "code",
      "source": "#delete\ndf_train = df_train[~duration_Proportion]\n#Check\nprint('Trip duration in seconds: {} to {}'.format(\n    df_train.trip_duration.min(), df_train.trip_duration.max()\n))",
      "execution_count": 113,
      "outputs": [
        {
          "output_type": "stream",
          "text": "/opt/conda/lib/python3.6/site-packages/ipykernel_launcher.py:2: UserWarning: Boolean Series key will be reindexed to match DataFrame index.\n  \n",
          "name": "stderr"
        },
        {
          "output_type": "stream",
          "text": "Trip duration in seconds: 60 to 10731\n",
          "name": "stdout"
        }
      ]
    },
    {
      "metadata": {
        "scrolled": false,
        "trusted": true,
        "_uuid": "499036898f39ebdd34689f26e513615c33aa4de8"
      },
      "cell_type": "code",
      "source": "plt.figure(figsize=(8,5))\nsns.distplot(df_train['trip_duration']).set_title(\"Distribution of Trip Duration\")\nplt.xlabel(\"Trip Duration\")",
      "execution_count": 114,
      "outputs": [
        {
          "output_type": "stream",
          "text": "/opt/conda/lib/python3.6/site-packages/scipy/stats/stats.py:1713: FutureWarning: Using a non-tuple sequence for multidimensional indexing is deprecated; use `arr[tuple(seq)]` instead of `arr[seq]`. In the future this will be interpreted as an array index, `arr[np.array(seq)]`, which will result either in an error or a different result.\n  return np.add.reduce(sorted[indexer] * weights, axis=axis) / sumval\n",
          "name": "stderr"
        },
        {
          "output_type": "execute_result",
          "execution_count": 114,
          "data": {
            "text/plain": "Text(0.5,0,'Trip Duration')"
          },
          "metadata": {}
        },
        {
          "output_type": "display_data",
          "data": {
            "text/plain": "<Figure size 576x360 with 1 Axes>",
            "image/png": "[encoded data removed]"
          },
          "metadata": {}
        }
      ]
    },
    {
      "metadata": {
        "_uuid": "59f2f085de9060e9e52ed80a760f3d9b5fed62eb"
      },
      "cell_type": "markdown",
      "source": "reduces the impact of outliers"
    },
    {
      "metadata": {
        "trusted": true,
        "_uuid": "cb03447f303d66af756ea5d316cbe1390c2f9c41"
      },
      "cell_type": "code",
      "source": "df_train['trip_duration'] = np.log(df_train['trip_duration'].values)",
      "execution_count": 115,
      "outputs": [
        {
          "output_type": "execute_result",
          "execution_count": 115,
          "data": {
            "text/plain": "Text(0.5,0,'Trip Duration')"
          },
          "metadata": {}
        },
        {
          "output_type": "display_data",
          "data": {
            "text/plain": "<Figure size 432x288 with 1 Axes>",
            "image/png": "[encoded data removed]"
          },
          "metadata": {}
        }
      ]
    },
    {
      "metadata": {
        "_uuid": "5d626f79044391e8de34947de50536431195f145"
      },
      "cell_type": "markdown",
      "source": "#### 3.2 Missing values handling"
    },
    {
      "metadata": {
        "trusted": true,
        "_uuid": "dac25f75777cd465c8da4e9fbefb0de913773430"
      },
      "cell_type": "code",
      "source": "df_train[pd.isnull(df_train)].sum()",
      "execution_count": 116,
      "outputs": [
        {
          "output_type": "execute_result",
          "execution_count": 116,
          "data": {
            "text/plain": "id                    0.0\nvendor_id             0.0\npickup_datetime       0.0\ndropoff_datetime      0.0\npassenger_count       0.0\npickup_longitude      0.0\npickup_latitude       0.0\ndropoff_longitude     0.0\ndropoff_latitude      0.0\nstore_and_fwd_flag    0.0\ntrip_duration         0.0\ndistance              0.0\ndtype: float64"
          },
          "metadata": {}
        }
      ]
    },
    {
      "metadata": {
        "_uuid": "8697ebe862a90dfcb4e2cb46e6cd2ea2ad2a65e6"
      },
      "cell_type": "markdown",
      "source": "No missing Values"
    },
    {
      "metadata": {
        "_uuid": "e557595f66c289346c6a55cd2daea477f58d8bf5"
      },
      "cell_type": "markdown",
      "source": "#### 3.3 Gestion des variables catégoriques"
    },
    {
      "metadata": {
        "_uuid": "59796dda11a5196daa663dd4fdb8b5bc0a889773"
      },
      "cell_type": "markdown",
      "source": "convert pickup dateime and dropoff datetime into date-time object"
    },
    {
      "metadata": {
        "trusted": true,
        "_uuid": "e484b92435625c43dda0057f9c915c4e0fd8ecbc"
      },
      "cell_type": "code",
      "source": "df_train['pickup_datetime'] = pd.to_datetime(df_train['pickup_datetime'], format='%Y-%m-%d %H:%M:%S')\ndf_test['pickup_datetime'] = pd.to_datetime(df_test['pickup_datetime'], format='%Y-%m-%d %H:%M:%S')",
      "execution_count": 117,
      "outputs": []
    },
    {
      "metadata": {
        "trusted": true,
        "_uuid": "3552b1b98c9d63af033ed8a83751fc2973bcf733"
      },
      "cell_type": "code",
      "source": "df_train['hour'] = df_train.loc[:,'pickup_datetime'].dt.hour;\ndf_train['week'] = df_train.loc[:,'pickup_datetime'].dt.week;\ndf_train['weekday'] = df_train.loc[:,'pickup_datetime'].dt.weekday;\ndf_train['hour'] = df_train.loc[:,'pickup_datetime'].dt.hour;\ndf_train['month'] = df_train.loc[:,'pickup_datetime'].dt.month;\n\ndf_test['hour'] = df_test.loc[:,'pickup_datetime'].dt.hour;\ndf_test['week'] = df_test.loc[:,'pickup_datetime'].dt.week;\ndf_test['weekday'] = df_test.loc[:,'pickup_datetime'].dt.weekday;\ndf_test['hour'] = df_test.loc[:,'pickup_datetime'].dt.hour;\ndf_test['month'] = df_test.loc[:,'pickup_datetime'].dt.month;",
      "execution_count": 118,
      "outputs": []
    },
    {
      "metadata": {
        "_uuid": "b6e0337fe15e6aaeca2af981ee2ec87c11282092"
      },
      "cell_type": "markdown",
      "source": "# 4 Features engineering :"
    },
    {
      "metadata": {
        "_uuid": "0321fa11d31ed587bc77c9f6e8a40b765213ea0e"
      },
      "cell_type": "markdown",
      "source": "#### 4.1 Features selection"
    },
    {
      "metadata": {
        "trusted": true,
        "_uuid": "4bc967c60f74bbf3ba02e93366f534ee9e24262b"
      },
      "cell_type": "code",
      "source": "y_train = df_train[\"trip_duration\"]\nX_train = df_train[[\"vendor_id\", \"passenger_count\", \"pickup_longitude\", \"pickup_latitude\", \"dropoff_longitude\",\"dropoff_latitude\", \"distance\", \"hour\", \"week\", \"weekday\", \"month\" ]]\n",
      "execution_count": 119,
      "outputs": []
    },
    {
      "metadata": {
        "_uuid": "2348f72758fc70c1e49a6e8ea1babde1ab70e353"
      },
      "cell_type": "markdown",
      "source": "#### 4.2 Features extraction"
    },
    {
      "metadata": {
        "_uuid": "05217c9180b326bd4780cb4a24ebde9126607480"
      },
      "cell_type": "markdown",
      "source": "#### 4.3 Features creation"
    },
    {
      "metadata": {
        "_uuid": "1f35657594b693dbb6c12b105f0f2df20af6ac54"
      },
      "cell_type": "markdown",
      "source": "# 5 Choix d'un méthode de validation"
    },
    {
      "metadata": {
        "trusted": true,
        "_uuid": "2300405e6077824bd160ead374f6cd365f01f346"
      },
      "cell_type": "code",
      "source": "from sklearn.model_selection import train_test_split\nX_train, X_valid, y_train, y_valid = train_test_split(X_train, y_train,test_size=0.2, random_state=42)",
      "execution_count": 120,
      "outputs": []
    },
    {
      "metadata": {
        "trusted": true,
        "_uuid": "9708789cdee2129984ff662fec36229a95e4cba6"
      },
      "cell_type": "code",
      "source": "%%time\nfrom sklearn.ensemble import RandomForestRegressor\nm = RandomForestRegressor(n_estimators=35,min_samples_leaf=100, min_samples_split=100, n_jobs=-1)\nm.fit(X_train, y_train)",
      "execution_count": 121,
      "outputs": [
        {
          "output_type": "error",
          "ename": "KeyboardInterrupt",
          "evalue": "",
          "traceback": [
            "\u001b[0;31m---------------------------------------------------------------------------\u001b[0m",
            "\u001b[0;31mKeyboardInterrupt\u001b[0m                         Traceback (most recent call last)",
            "\u001b[0;32m<timed exec>\u001b[0m in \u001b[0;36m<module>\u001b[0;34m()\u001b[0m\n",
            "\u001b[0;32m/opt/conda/lib/python3.6/site-packages/sklearn/ensemble/forest.py\u001b[0m in \u001b[0;36mfit\u001b[0;34m(self, X, y, sample_weight)\u001b[0m\n\u001b[1;32m    331\u001b[0m                     \u001b[0mt\u001b[0m\u001b[0;34m,\u001b[0m \u001b[0mself\u001b[0m\u001b[0;34m,\u001b[0m \u001b[0mX\u001b[0m\u001b[0;34m,\u001b[0m \u001b[0my\u001b[0m\u001b[0;34m,\u001b[0m \u001b[0msample_weight\u001b[0m\u001b[0;34m,\u001b[0m \u001b[0mi\u001b[0m\u001b[0;34m,\u001b[0m \u001b[0mlen\u001b[0m\u001b[0;34m(\u001b[0m\u001b[0mtrees\u001b[0m\u001b[0;34m)\u001b[0m\u001b[0;34m,\u001b[0m\u001b[0;34m\u001b[0m\u001b[0m\n\u001b[1;32m    332\u001b[0m                     verbose=self.verbose, class_weight=self.class_weight)\n\u001b[0;32m--> 333\u001b[0;31m                 for i, t in enumerate(trees))\n\u001b[0m\u001b[1;32m    334\u001b[0m \u001b[0;34m\u001b[0m\u001b[0m\n\u001b[1;32m    335\u001b[0m             \u001b[0;31m# Collect newly grown trees\u001b[0m\u001b[0;34m\u001b[0m\u001b[0;34m\u001b[0m\u001b[0m\n",
            "\u001b[0;32m/opt/conda/lib/python3.6/site-packages/sklearn/externals/joblib/parallel.py\u001b[0m in \u001b[0;36m__call__\u001b[0;34m(self, iterable)\u001b[0m\n\u001b[1;32m    928\u001b[0m \u001b[0;34m\u001b[0m\u001b[0m\n\u001b[1;32m    929\u001b[0m             \u001b[0;32mwith\u001b[0m \u001b[0mself\u001b[0m\u001b[0;34m.\u001b[0m\u001b[0m_backend\u001b[0m\u001b[0;34m.\u001b[0m\u001b[0mretrieval_context\u001b[0m\u001b[0;34m(\u001b[0m\u001b[0;34m)\u001b[0m\u001b[0;34m:\u001b[0m\u001b[0;34m\u001b[0m\u001b[0m\n\u001b[0;32m--> 930\u001b[0;31m                 \u001b[0mself\u001b[0m\u001b[0;34m.\u001b[0m\u001b[0mretrieve\u001b[0m\u001b[0;34m(\u001b[0m\u001b[0;34m)\u001b[0m\u001b[0;34m\u001b[0m\u001b[0m\n\u001b[0m\u001b[1;32m    931\u001b[0m             \u001b[0;31m# Make sure that we get a last message telling us we are done\u001b[0m\u001b[0;34m\u001b[0m\u001b[0;34m\u001b[0m\u001b[0m\n\u001b[1;32m    932\u001b[0m             \u001b[0melapsed_time\u001b[0m \u001b[0;34m=\u001b[0m \u001b[0mtime\u001b[0m\u001b[0;34m.\u001b[0m\u001b[0mtime\u001b[0m\u001b[0;34m(\u001b[0m\u001b[0;34m)\u001b[0m \u001b[0;34m-\u001b[0m \u001b[0mself\u001b[0m\u001b[0;34m.\u001b[0m\u001b[0m_start_time\u001b[0m\u001b[0;34m\u001b[0m\u001b[0m\n",
            "\u001b[0;32m/opt/conda/lib/python3.6/site-packages/sklearn/externals/joblib/parallel.py\u001b[0m in \u001b[0;36mretrieve\u001b[0;34m(self)\u001b[0m\n\u001b[1;32m    831\u001b[0m             \u001b[0;32mtry\u001b[0m\u001b[0;34m:\u001b[0m\u001b[0;34m\u001b[0m\u001b[0m\n\u001b[1;32m    832\u001b[0m                 \u001b[0;32mif\u001b[0m \u001b[0mgetattr\u001b[0m\u001b[0;34m(\u001b[0m\u001b[0mself\u001b[0m\u001b[0;34m.\u001b[0m\u001b[0m_backend\u001b[0m\u001b[0;34m,\u001b[0m \u001b[0;34m'supports_timeout'\u001b[0m\u001b[0;34m,\u001b[0m \u001b[0;32mFalse\u001b[0m\u001b[0;34m)\u001b[0m\u001b[0;34m:\u001b[0m\u001b[0;34m\u001b[0m\u001b[0m\n\u001b[0;32m--> 833\u001b[0;31m                     \u001b[0mself\u001b[0m\u001b[0;34m.\u001b[0m\u001b[0m_output\u001b[0m\u001b[0;34m.\u001b[0m\u001b[0mextend\u001b[0m\u001b[0;34m(\u001b[0m\u001b[0mjob\u001b[0m\u001b[0;34m.\u001b[0m\u001b[0mget\u001b[0m\u001b[0;34m(\u001b[0m\u001b[0mtimeout\u001b[0m\u001b[0;34m=\u001b[0m\u001b[0mself\u001b[0m\u001b[0;34m.\u001b[0m\u001b[0mtimeout\u001b[0m\u001b[0;34m)\u001b[0m\u001b[0;34m)\u001b[0m\u001b[0;34m\u001b[0m\u001b[0m\n\u001b[0m\u001b[1;32m    834\u001b[0m                 \u001b[0;32melse\u001b[0m\u001b[0;34m:\u001b[0m\u001b[0;34m\u001b[0m\u001b[0m\n\u001b[1;32m    835\u001b[0m                     \u001b[0mself\u001b[0m\u001b[0;34m.\u001b[0m\u001b[0m_output\u001b[0m\u001b[0;34m.\u001b[0m\u001b[0mextend\u001b[0m\u001b[0;34m(\u001b[0m\u001b[0mjob\u001b[0m\u001b[0;34m.\u001b[0m\u001b[0mget\u001b[0m\u001b[0;34m(\u001b[0m\u001b[0;34m)\u001b[0m\u001b[0;34m)\u001b[0m\u001b[0;34m\u001b[0m\u001b[0m\n",
            "\u001b[0;32m/opt/conda/lib/python3.6/multiprocessing/pool.py\u001b[0m in \u001b[0;36mget\u001b[0;34m(self, timeout)\u001b[0m\n\u001b[1;32m    636\u001b[0m \u001b[0;34m\u001b[0m\u001b[0m\n\u001b[1;32m    637\u001b[0m     \u001b[0;32mdef\u001b[0m \u001b[0mget\u001b[0m\u001b[0;34m(\u001b[0m\u001b[0mself\u001b[0m\u001b[0;34m,\u001b[0m \u001b[0mtimeout\u001b[0m\u001b[0;34m=\u001b[0m\u001b[0;32mNone\u001b[0m\u001b[0;34m)\u001b[0m\u001b[0;34m:\u001b[0m\u001b[0;34m\u001b[0m\u001b[0m\n\u001b[0;32m--> 638\u001b[0;31m         \u001b[0mself\u001b[0m\u001b[0;34m.\u001b[0m\u001b[0mwait\u001b[0m\u001b[0;34m(\u001b[0m\u001b[0mtimeout\u001b[0m\u001b[0;34m)\u001b[0m\u001b[0;34m\u001b[0m\u001b[0m\n\u001b[0m\u001b[1;32m    639\u001b[0m         \u001b[0;32mif\u001b[0m \u001b[0;32mnot\u001b[0m \u001b[0mself\u001b[0m\u001b[0;34m.\u001b[0m\u001b[0mready\u001b[0m\u001b[0;34m(\u001b[0m\u001b[0;34m)\u001b[0m\u001b[0;34m:\u001b[0m\u001b[0;34m\u001b[0m\u001b[0m\n\u001b[1;32m    640\u001b[0m             \u001b[0;32mraise\u001b[0m \u001b[0mTimeoutError\u001b[0m\u001b[0;34m\u001b[0m\u001b[0m\n",
            "\u001b[0;32m/opt/conda/lib/python3.6/multiprocessing/pool.py\u001b[0m in \u001b[0;36mwait\u001b[0;34m(self, timeout)\u001b[0m\n\u001b[1;32m    633\u001b[0m \u001b[0;34m\u001b[0m\u001b[0m\n\u001b[1;32m    634\u001b[0m     \u001b[0;32mdef\u001b[0m \u001b[0mwait\u001b[0m\u001b[0;34m(\u001b[0m\u001b[0mself\u001b[0m\u001b[0;34m,\u001b[0m \u001b[0mtimeout\u001b[0m\u001b[0;34m=\u001b[0m\u001b[0;32mNone\u001b[0m\u001b[0;34m)\u001b[0m\u001b[0;34m:\u001b[0m\u001b[0;34m\u001b[0m\u001b[0m\n\u001b[0;32m--> 635\u001b[0;31m         \u001b[0mself\u001b[0m\u001b[0;34m.\u001b[0m\u001b[0m_event\u001b[0m\u001b[0;34m.\u001b[0m\u001b[0mwait\u001b[0m\u001b[0;34m(\u001b[0m\u001b[0mtimeout\u001b[0m\u001b[0;34m)\u001b[0m\u001b[0;34m\u001b[0m\u001b[0m\n\u001b[0m\u001b[1;32m    636\u001b[0m \u001b[0;34m\u001b[0m\u001b[0m\n\u001b[1;32m    637\u001b[0m     \u001b[0;32mdef\u001b[0m \u001b[0mget\u001b[0m\u001b[0;34m(\u001b[0m\u001b[0mself\u001b[0m\u001b[0;34m,\u001b[0m \u001b[0mtimeout\u001b[0m\u001b[0;34m=\u001b[0m\u001b[0;32mNone\u001b[0m\u001b[0;34m)\u001b[0m\u001b[0;34m:\u001b[0m\u001b[0;34m\u001b[0m\u001b[0m\n",
            "\u001b[0;32m/opt/conda/lib/python3.6/threading.py\u001b[0m in \u001b[0;36mwait\u001b[0;34m(self, timeout)\u001b[0m\n\u001b[1;32m    549\u001b[0m             \u001b[0msignaled\u001b[0m \u001b[0;34m=\u001b[0m \u001b[0mself\u001b[0m\u001b[0;34m.\u001b[0m\u001b[0m_flag\u001b[0m\u001b[0;34m\u001b[0m\u001b[0m\n\u001b[1;32m    550\u001b[0m             \u001b[0;32mif\u001b[0m \u001b[0;32mnot\u001b[0m \u001b[0msignaled\u001b[0m\u001b[0;34m:\u001b[0m\u001b[0;34m\u001b[0m\u001b[0m\n\u001b[0;32m--> 551\u001b[0;31m                 \u001b[0msignaled\u001b[0m \u001b[0;34m=\u001b[0m \u001b[0mself\u001b[0m\u001b[0;34m.\u001b[0m\u001b[0m_cond\u001b[0m\u001b[0;34m.\u001b[0m\u001b[0mwait\u001b[0m\u001b[0;34m(\u001b[0m\u001b[0mtimeout\u001b[0m\u001b[0;34m)\u001b[0m\u001b[0;34m\u001b[0m\u001b[0m\n\u001b[0m\u001b[1;32m    552\u001b[0m             \u001b[0;32mreturn\u001b[0m \u001b[0msignaled\u001b[0m\u001b[0;34m\u001b[0m\u001b[0m\n\u001b[1;32m    553\u001b[0m \u001b[0;34m\u001b[0m\u001b[0m\n",
            "\u001b[0;32m/opt/conda/lib/python3.6/threading.py\u001b[0m in \u001b[0;36mwait\u001b[0;34m(self, timeout)\u001b[0m\n\u001b[1;32m    293\u001b[0m         \u001b[0;32mtry\u001b[0m\u001b[0;34m:\u001b[0m    \u001b[0;31m# restore state no matter what (e.g., KeyboardInterrupt)\u001b[0m\u001b[0;34m\u001b[0m\u001b[0m\n\u001b[1;32m    294\u001b[0m             \u001b[0;32mif\u001b[0m \u001b[0mtimeout\u001b[0m \u001b[0;32mis\u001b[0m \u001b[0;32mNone\u001b[0m\u001b[0;34m:\u001b[0m\u001b[0;34m\u001b[0m\u001b[0m\n\u001b[0;32m--> 295\u001b[0;31m                 \u001b[0mwaiter\u001b[0m\u001b[0;34m.\u001b[0m\u001b[0macquire\u001b[0m\u001b[0;34m(\u001b[0m\u001b[0;34m)\u001b[0m\u001b[0;34m\u001b[0m\u001b[0m\n\u001b[0m\u001b[1;32m    296\u001b[0m                 \u001b[0mgotit\u001b[0m \u001b[0;34m=\u001b[0m \u001b[0;32mTrue\u001b[0m\u001b[0;34m\u001b[0m\u001b[0m\n\u001b[1;32m    297\u001b[0m             \u001b[0;32melse\u001b[0m\u001b[0;34m:\u001b[0m\u001b[0;34m\u001b[0m\u001b[0m\n",
            "\u001b[0;31mKeyboardInterrupt\u001b[0m: "
          ]
        }
      ]
    },
    {
      "metadata": {
        "_uuid": "0cf00827fbbd2522de5b88cfc8c58a694466ab3a"
      },
      "cell_type": "markdown",
      "source": "# 6 Sélection de modèles et/ou datasets (si il y en a plusieurs)"
    },
    {
      "metadata": {
        "_uuid": "0aa81f964535852e35aaf043ec480e9e4f6f5ef1"
      },
      "cell_type": "markdown",
      "source": "# 7 Entrainement du ou des modèle(s)"
    },
    {
      "metadata": {
        "_uuid": "06e691a1ec72def6bbc07b7a683ced970a5ff205"
      },
      "cell_type": "markdown",
      "source": "Validation"
    },
    {
      "metadata": {
        "trusted": true,
        "_uuid": "ee1b79f0ae3f32f6c711430799b16d98afd290db"
      },
      "cell_type": "code",
      "source": "X_test = df_test[[\"vendor_id\", \"passenger_count\",\"pickup_longitude\", \"pickup_latitude\",\"dropoff_longitude\",\"dropoff_latitude\",\"distance\", \"hour\", \"week\", \"weekday\", \"month\"]]\nprediction = m.predict(X_test)\nprediction",
      "execution_count": 122,
      "outputs": [
        {
          "output_type": "error",
          "ename": "NotFittedError",
          "evalue": "Estimator not fitted, call `fit` before exploiting the model.",
          "traceback": [
            "\u001b[0;31m---------------------------------------------------------------------------\u001b[0m",
            "\u001b[0;31mNotFittedError\u001b[0m                            Traceback (most recent call last)",
            "\u001b[0;32m<ipython-input-122-f879d67feb62>\u001b[0m in \u001b[0;36m<module>\u001b[0;34m()\u001b[0m\n\u001b[1;32m      1\u001b[0m \u001b[0mX_test\u001b[0m \u001b[0;34m=\u001b[0m \u001b[0mdf_test\u001b[0m\u001b[0;34m[\u001b[0m\u001b[0;34m[\u001b[0m\u001b[0;34m\"vendor_id\"\u001b[0m\u001b[0;34m,\u001b[0m \u001b[0;34m\"passenger_count\"\u001b[0m\u001b[0;34m,\u001b[0m\u001b[0;34m\"pickup_longitude\"\u001b[0m\u001b[0;34m,\u001b[0m \u001b[0;34m\"pickup_latitude\"\u001b[0m\u001b[0;34m,\u001b[0m\u001b[0;34m\"dropoff_longitude\"\u001b[0m\u001b[0;34m,\u001b[0m\u001b[0;34m\"dropoff_latitude\"\u001b[0m\u001b[0;34m,\u001b[0m\u001b[0;34m\"distance\"\u001b[0m\u001b[0;34m,\u001b[0m \u001b[0;34m\"hour\"\u001b[0m\u001b[0;34m,\u001b[0m \u001b[0;34m\"week\"\u001b[0m\u001b[0;34m,\u001b[0m \u001b[0;34m\"weekday\"\u001b[0m\u001b[0;34m,\u001b[0m \u001b[0;34m\"month\"\u001b[0m\u001b[0;34m]\u001b[0m\u001b[0;34m]\u001b[0m\u001b[0;34m\u001b[0m\u001b[0m\n\u001b[0;32m----> 2\u001b[0;31m \u001b[0mprediction\u001b[0m \u001b[0;34m=\u001b[0m \u001b[0mm\u001b[0m\u001b[0;34m.\u001b[0m\u001b[0mpredict\u001b[0m\u001b[0;34m(\u001b[0m\u001b[0mX_test\u001b[0m\u001b[0;34m)\u001b[0m\u001b[0;34m\u001b[0m\u001b[0m\n\u001b[0m\u001b[1;32m      3\u001b[0m \u001b[0mprediction\u001b[0m\u001b[0;34m\u001b[0m\u001b[0m\n",
            "\u001b[0;32m/opt/conda/lib/python3.6/site-packages/sklearn/ensemble/forest.py\u001b[0m in \u001b[0;36mpredict\u001b[0;34m(self, X)\u001b[0m\n\u001b[1;32m    686\u001b[0m         \u001b[0mcheck_is_fitted\u001b[0m\u001b[0;34m(\u001b[0m\u001b[0mself\u001b[0m\u001b[0;34m,\u001b[0m \u001b[0;34m'estimators_'\u001b[0m\u001b[0;34m)\u001b[0m\u001b[0;34m\u001b[0m\u001b[0m\n\u001b[1;32m    687\u001b[0m         \u001b[0;31m# Check data\u001b[0m\u001b[0;34m\u001b[0m\u001b[0;34m\u001b[0m\u001b[0m\n\u001b[0;32m--> 688\u001b[0;31m         \u001b[0mX\u001b[0m \u001b[0;34m=\u001b[0m \u001b[0mself\u001b[0m\u001b[0;34m.\u001b[0m\u001b[0m_validate_X_predict\u001b[0m\u001b[0;34m(\u001b[0m\u001b[0mX\u001b[0m\u001b[0;34m)\u001b[0m\u001b[0;34m\u001b[0m\u001b[0m\n\u001b[0m\u001b[1;32m    689\u001b[0m \u001b[0;34m\u001b[0m\u001b[0m\n\u001b[1;32m    690\u001b[0m         \u001b[0;31m# Assign chunk of trees to jobs\u001b[0m\u001b[0;34m\u001b[0m\u001b[0;34m\u001b[0m\u001b[0m\n",
            "\u001b[0;32m/opt/conda/lib/python3.6/site-packages/sklearn/ensemble/forest.py\u001b[0m in \u001b[0;36m_validate_X_predict\u001b[0;34m(self, X)\u001b[0m\n\u001b[1;32m    357\u001b[0m         \u001b[0;34m\"\"\"Validate X whenever one tries to predict, apply, predict_proba\"\"\"\u001b[0m\u001b[0;34m\u001b[0m\u001b[0m\n\u001b[1;32m    358\u001b[0m         \u001b[0;32mif\u001b[0m \u001b[0mself\u001b[0m\u001b[0;34m.\u001b[0m\u001b[0mestimators_\u001b[0m \u001b[0;32mis\u001b[0m \u001b[0;32mNone\u001b[0m \u001b[0;32mor\u001b[0m \u001b[0mlen\u001b[0m\u001b[0;34m(\u001b[0m\u001b[0mself\u001b[0m\u001b[0;34m.\u001b[0m\u001b[0mestimators_\u001b[0m\u001b[0;34m)\u001b[0m \u001b[0;34m==\u001b[0m \u001b[0;36m0\u001b[0m\u001b[0;34m:\u001b[0m\u001b[0;34m\u001b[0m\u001b[0m\n\u001b[0;32m--> 359\u001b[0;31m             raise NotFittedError(\"Estimator not fitted, \"\n\u001b[0m\u001b[1;32m    360\u001b[0m                                  \"call `fit` before exploiting the model.\")\n\u001b[1;32m    361\u001b[0m \u001b[0;34m\u001b[0m\u001b[0m\n",
            "\u001b[0;31mNotFittedError\u001b[0m: Estimator not fitted, call `fit` before exploiting the model."
          ]
        }
      ]
    },
    {
      "metadata": {
        "_uuid": "76293a1d47157ce2a6c20f6af513cc5b7e81c003"
      },
      "cell_type": "markdown",
      "source": "# 8 Prédictions"
    },
    {
      "metadata": {
        "trusted": true,
        "_uuid": "5307c39f4d4d6fc746718cbb7695c14dfd3d1ffb"
      },
      "cell_type": "code",
      "source": "submit = pd.read_csv('../input/sample_submission.csv')\nsubmit.head()",
      "execution_count": null,
      "outputs": []
    },
    {
      "metadata": {
        "trusted": true,
        "_uuid": "b9a188e2c61e36c9c6798b4537e90b9a07436149"
      },
      "cell_type": "code",
      "source": "my_submission = pd.DataFrame({'id': df_test.id, 'trip_duration': np.exp(prediction)})\nmy_submission.head()",
      "execution_count": null,
      "outputs": []
    },
    {
      "metadata": {
        "trusted": true,
        "_uuid": "6176e7f4d843c99b5678917ef8ced9b47a2a7f24"
      },
      "cell_type": "code",
      "source": "my_submission.to_csv('submission.csv', index=False)",
      "execution_count": null,
      "outputs": []
    },
    {
      "metadata": {
        "_uuid": "85a81ce612045a4c0942a880ab05edf2b5f10823"
      },
      "cell_type": "markdown",
      "source": ""
    }
  ],
  "metadata": {
    "kernelspec": {
      "display_name": "Python 3",
      "language": "python",
      "name": "python3"
    },
    "language_info": {
      "name": "python",
      "version": "3.6.6",
      "mimetype": "text/x-python",
      "codemirror_mode": {
        "name": "ipython",
        "version": 3
      },
      "pygments_lexer": "ipython3",
      "nbconvert_exporter": "python",
      "file_extension": ".py"
    }
  },
  "nbformat": 4,
  "nbformat_minor": 1
}